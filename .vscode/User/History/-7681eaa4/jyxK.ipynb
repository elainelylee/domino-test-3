{
 "cells": [
  {
   "cell_type": "code",
   "execution_count": 1,
   "metadata": {},
   "outputs": [],
   "source": [
    "import mlflow\n"
   ]
  },
  {
   "cell_type": "code",
   "execution_count": 2,
   "metadata": {},
   "outputs": [
    {
     "data": {
      "text/plain": [
       "<Experiment: artifact_location='mlflow-artifacts:/mlflow', creation_time=1679355875082, experiment_id='43', last_update_time=1679355875082, lifecycle_stage='active', name='test', tags={'domino.project': 'john',\n",
       " 'mlflow.domino.dataset_info': '640b697cd762e4659720187b-640b697cd762e4659720187a',\n",
       " 'mlflow.domino.environment_id': '640b732cd762e46597201898',\n",
       " 'mlflow.domino.environment_revision_id': '640f50bbd3d7bc3abca3343b',\n",
       " 'mlflow.domino.hardware_tier': 'medium-k8s',\n",
       " 'mlflow.domino.project': 'john',\n",
       " 'mlflow.domino.project_id': '640b697cd762e46597201876',\n",
       " 'mlflow.domino.project_name': 'john',\n",
       " 'mlflow.domino.run_id': '6418e20fa3e6d27ded9fcc40',\n",
       " 'mlflow.domino.run_number': '27',\n",
       " 'mlflow.domino.user': 'integration-test',\n",
       " 'mlflow.source.type': 'NOTEBOOK',\n",
       " 'mlflow.user': 'integration-test'}>"
      ]
     },
     "execution_count": 2,
     "metadata": {},
     "output_type": "execute_result"
    }
   ],
   "source": [
    "mlflow.set_experiment(\"test\")"
   ]
  },
  {
   "cell_type": "code",
   "execution_count": null,
   "metadata": {},
   "outputs": [],
   "source": [
    "mlflow.start"
   ]
  }
 ],
 "metadata": {
  "kernelspec": {
   "display_name": "Python 3.9.16 64-bit ('base': conda)",
   "language": "python",
   "name": "python3"
  },
  "language_info": {
   "codemirror_mode": {
    "name": "ipython",
    "version": 3
   },
   "file_extension": ".py",
   "mimetype": "text/x-python",
   "name": "python",
   "nbconvert_exporter": "python",
   "pygments_lexer": "ipython3",
   "version": "3.9.16"
  },
  "orig_nbformat": 4,
  "vscode": {
   "interpreter": {
    "hash": "d4d1e4263499bec80672ea0156c357c1ee493ec2b1c70f0acce89fc37c4a6abe"
   }
  }
 },
 "nbformat": 4,
 "nbformat_minor": 2
}

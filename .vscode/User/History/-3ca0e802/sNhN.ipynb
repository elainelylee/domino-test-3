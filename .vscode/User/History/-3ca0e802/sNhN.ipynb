{
 "cells": [
  {
   "cell_type": "code",
   "execution_count": null,
   "metadata": {},
   "outputs": [],
   "source": [
    "# Import packages\n",
    "import mlflow\n",
    "import pandas as pd\n",
    "from sklearn import metrics\n",
    "from sklearn.tree import DecisionTreeClassifier\n",
    "from sklearn.model_selection import train_test_split"
   ]
  },
  {
   "cell_type": "code",
   "execution_count": null,
   "metadata": {},
   "outputs": [],
   "source": [
    "# Load and split data\n",
    "df = pd.read_csv(\"winequality.csv\", header=0)\n",
    "X = df.iloc[:, :-1]\n",
    "y = df.quality\n",
    "X_train, X_test, y_train, y_test = train_test_split(X, y, test_size=0.3, random_state=42)"
   ]
  },
  {
   "cell_type": "code",
   "execution_count": null,
   "metadata": {},
   "outputs": [],
   "source": [
    "# Start MLFlow autologging\n",
    "mlflow.set_experiment(\"wine\")\n",
    "mlflow.autolog()\n",
    "\n",
    "# Set decision tree parameters\n",
    "max_depth = 10\n",
    "min_samples_leaf = 3\n",
    "min_samples_split = 2\n",
    "ccp_alpha = 0.01\n",
    "\n",
    "# Train decision tree model\n",
    "model = DecisionTreeClassifier(max_depth=max_depth, min_samples_leaf=min_samples_leaf, min_samples_split=min_samples_split, ccp_alpha=ccp_alpha)\n",
    "model.fit(X_train,y_train)\n",
    "\n",
    "# Evaluate model \n",
    "predictions = model.predict(X_test)\n",
    "accuracy = metrics.accuracy_score(y_true=y_test, y_pred=predictions)"
   ]
  }
 ],
 "metadata": {
  "kernelspec": {
   "display_name": "Python 3.8.10 64-bit",
   "language": "python",
   "name": "python3"
  },
  "language_info": {
   "name": "python",
   "version": "3.8.10"
  },
  "orig_nbformat": 4,
  "vscode": {
   "interpreter": {
    "hash": "e7370f93d1d0cde622a1f8e1c04877d8463912d04d973331ad4851f04de6915a"
   }
  }
 },
 "nbformat": 4,
 "nbformat_minor": 2
}
